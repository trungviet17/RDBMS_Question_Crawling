{
 "cells": [
  {
   "cell_type": "markdown",
   "metadata": {},
   "source": [
    "# Crawling Data"
   ]
  },
  {
   "cell_type": "code",
   "execution_count": 3,
   "metadata": {},
   "outputs": [],
   "source": [
    "import bs4 \n",
    "import pandas as pd\n",
    "import selenium \n",
    "from selenium import webdriver \n",
    "from bs4 import BeautifulSoup\n",
    "from selenium.common.exceptions import TimeoutException"
   ]
  },
  {
   "cell_type": "code",
   "execution_count": null,
   "metadata": {},
   "outputs": [],
   "source": [
    "from selenium import webdriver \n",
    "is_next = 1\n",
    "dct = {\"Question\" : [], \"Answer\" : []}\n",
    "url = \"https://www.sanfoundry.com/rdbms-questions-bank/\"\n",
    "browser = webdriver.Chrome()\n",
    "\n",
    "\n",
    "while(is_next) : \n",
    "\n",
    "    browser.get(url)\n",
    "    browser.implicitly_wait(10)\n",
    "\n",
    "\n",
    "    content = browser.page_source\n",
    "    soup = bs4.BeautifulSoup(content, \"html.parser\")\n",
    "\n",
    "    all_content = soup.find_all(\"div\", class_ = \"entry-content\")\n",
    "    question_content = all_content[0].find_all(\"p\")\n",
    "    answer_content = all_content[0].find_all(\"div\", class_ = \"collapseomatic_content\")\n",
    "\n",
    "    for i in range(len(question_content)) : \n",
    "        s = question_content[i].text\n",
    "        if s == \"\" : break\n",
    "        if s[0].isdigit() and i < len(question_content) - 1 : \n",
    "            r = question_content[i+1].text\n",
    "            if (r[0] == \"a\") : s += r\n",
    "            dct['Question'].append(s)\n",
    "            print(s)\n",
    "    \n",
    "    \n",
    "    for i in range(len(answer_content)) : \n",
    "        \n",
    "        dct['Answer'].append(answer_content[i].text)\n",
    "        \n",
    "\n",
    "    n = soup.find_all(\"a\", {\"rel\" : \"next\"})\n",
    "    is_next = len(n)\n",
    "    if (is_next != 0) : url = n[0].get(\"href\")\n"
   ]
  }
 ],
 "metadata": {
  "kernelspec": {
   "display_name": "Python 3",
   "language": "python",
   "name": "python3"
  },
  "language_info": {
   "codemirror_mode": {
    "name": "ipython",
    "version": 3
   },
   "file_extension": ".py",
   "mimetype": "text/x-python",
   "name": "python",
   "nbconvert_exporter": "python",
   "pygments_lexer": "ipython3",
   "version": "3.11.4"
  }
 },
 "nbformat": 4,
 "nbformat_minor": 2
}
